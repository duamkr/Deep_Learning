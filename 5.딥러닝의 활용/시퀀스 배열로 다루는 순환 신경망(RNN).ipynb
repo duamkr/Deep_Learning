{
 "cells": [
  {
   "cell_type": "code",
   "execution_count": 52,
   "metadata": {},
   "outputs": [],
   "source": [
    "from keras.utils import np_utils\n",
    "from keras.models import Sequential\n",
    "from keras.layers import Dense, Dropout, Flatten, Conv2D, MaxPooling2D, Embedding, LSTM\n",
    "from keras import regularizers\n",
    "from keras.regularizers import l2\n",
    "from keras.callbacks import ModelCheckpoint,EarlyStopping\n",
    "from keras.preprocessing import sequence\n",
    "\n",
    "import matplotlib.pyplot as plt\n",
    "%matplotlib inline\n",
    "import numpy as np\n",
    "import os\n",
    "import tensorflow as tf"
   ]
  },
  {
   "cell_type": "code",
   "execution_count": 53,
   "metadata": {},
   "outputs": [],
   "source": [
    "from keras.datasets import reuters"
   ]
  },
  {
   "cell_type": "code",
   "execution_count": 54,
   "metadata": {},
   "outputs": [],
   "source": [
    "(x_train, y_train), (x_test, y_test) = reuters.load_data(num_words =1000, test_split = 0.2)"
   ]
  },
  {
   "cell_type": "code",
   "execution_count": 55,
   "metadata": {},
   "outputs": [
    {
     "name": "stdout",
     "output_type": "stream",
     "text": [
      "46 카테고리\n",
      "8982 학습용 뉴스 기사\n",
      "2246 테스트용 뉴스기사\n",
      "[1, 2, 2, 8, 43, 10, 447, 5, 25, 207, 270, 5, 2, 111, 16, 369, 186, 90, 67, 7, 89, 5, 19, 102, 6, 19, 124, 15, 90, 67, 84, 22, 482, 26, 7, 48, 4, 49, 8, 864, 39, 209, 154, 6, 151, 6, 83, 11, 15, 22, 155, 11, 15, 7, 48, 9, 2, 2, 504, 6, 258, 6, 272, 11, 15, 22, 134, 44, 11, 15, 16, 8, 197, 2, 90, 67, 52, 29, 209, 30, 32, 132, 6, 109, 15, 17, 12]\n"
     ]
    }
   ],
   "source": [
    "category = np.max(y_train) + 1\n",
    "print(category, '카테고리')\n",
    "print(len(x_train), '학습용 뉴스 기사')\n",
    "print(len(x_test), '테스트용 뉴스기사')\n",
    "print(x_train[0])"
   ]
  },
  {
   "cell_type": "code",
   "execution_count": 56,
   "metadata": {},
   "outputs": [],
   "source": [
    "x_train = sequence.pad_sequences(x_train, maxlen = 100)\n",
    "x_test = sequence.pad_sequences(x_test, maxlen =100)"
   ]
  },
  {
   "cell_type": "code",
   "execution_count": 57,
   "metadata": {},
   "outputs": [],
   "source": [
    "from keras.preprocessing import sequence\n",
    "y_train = np_utils.to_categorical(y_train)\n",
    "y_test = np_utils.to_categorical(y_test)"
   ]
  },
  {
   "cell_type": "code",
   "execution_count": 58,
   "metadata": {},
   "outputs": [],
   "source": [
    "model = Sequential()\n",
    "model.add(Embedding(1000, 100))\n",
    "model.add(LSTM(100, activation = 'tanh'))\n",
    "model.add(Dense(46, activation = 'softmax'))"
   ]
  },
  {
   "cell_type": "code",
   "execution_count": 59,
   "metadata": {},
   "outputs": [],
   "source": [
    "model.compile(loss = 'categorical_crossentropy',\n",
    "             optimizer = 'adam',\n",
    "             metrics = ['accuracy'])"
   ]
  },
  {
   "cell_type": "code",
   "execution_count": 60,
   "metadata": {},
   "outputs": [
    {
     "name": "stdout",
     "output_type": "stream",
     "text": [
      "Train on 8982 samples, validate on 2246 samples\n",
      "Epoch 1/30\n",
      "8982/8982 [==============================] - 10s 1ms/step - loss: 2.6132 - acc: 0.3473 - val_loss: 2.4102 - val_acc: 0.3620\n",
      "Epoch 2/30\n",
      "8982/8982 [==============================] - 9s 1ms/step - loss: 2.1162 - acc: 0.4713 - val_loss: 2.0060 - val_acc: 0.5200\n",
      "Epoch 3/30\n",
      "8982/8982 [==============================] - 9s 1ms/step - loss: 1.8621 - acc: 0.5278 - val_loss: 1.8099 - val_acc: 0.5285\n",
      "Epoch 4/30\n",
      "8982/8982 [==============================] - 9s 1ms/step - loss: 1.6883 - acc: 0.5660 - val_loss: 1.6827 - val_acc: 0.5614\n",
      "Epoch 5/30\n",
      "8982/8982 [==============================] - 9s 1ms/step - loss: 1.5999 - acc: 0.5926 - val_loss: 1.5831 - val_acc: 0.6006\n",
      "Epoch 6/30\n",
      "8982/8982 [==============================] - 9s 1ms/step - loss: 1.4828 - acc: 0.6227 - val_loss: 1.5261 - val_acc: 0.6162\n",
      "Epoch 7/30\n",
      "8982/8982 [==============================] - 9s 1ms/step - loss: 1.3991 - acc: 0.6409 - val_loss: 1.4778 - val_acc: 0.6291\n",
      "Epoch 8/30\n",
      "8982/8982 [==============================] - 9s 1ms/step - loss: 1.3212 - acc: 0.6683 - val_loss: 1.4185 - val_acc: 0.6416\n",
      "Epoch 9/30\n",
      "8982/8982 [==============================] - 9s 1ms/step - loss: 1.2366 - acc: 0.6894 - val_loss: 1.4003 - val_acc: 0.6429\n",
      "Epoch 10/30\n",
      "8982/8982 [==============================] - 9s 1ms/step - loss: 1.1843 - acc: 0.6998 - val_loss: 1.3646 - val_acc: 0.6523\n",
      "Epoch 11/30\n",
      "8982/8982 [==============================] - 9s 1ms/step - loss: 1.1141 - acc: 0.7197 - val_loss: 1.3288 - val_acc: 0.6541\n",
      "Epoch 12/30\n",
      "8982/8982 [==============================] - 9s 1ms/step - loss: 1.0563 - acc: 0.7321 - val_loss: 1.2723 - val_acc: 0.6763\n",
      "Epoch 13/30\n",
      "8982/8982 [==============================] - 9s 1ms/step - loss: 0.9967 - acc: 0.7488 - val_loss: 1.2561 - val_acc: 0.6776\n",
      "Epoch 14/30\n",
      "8982/8982 [==============================] - 9s 1ms/step - loss: 0.9333 - acc: 0.7674 - val_loss: 1.2917 - val_acc: 0.6701\n",
      "Epoch 15/30\n",
      "8982/8982 [==============================] - 9s 1ms/step - loss: 0.9113 - acc: 0.7713 - val_loss: 1.2154 - val_acc: 0.6963\n",
      "Epoch 16/30\n",
      "8982/8982 [==============================] - 10s 1ms/step - loss: 0.8477 - acc: 0.7892 - val_loss: 1.2171 - val_acc: 0.6941\n",
      "Epoch 17/30\n",
      "8982/8982 [==============================] - 10s 1ms/step - loss: 0.8097 - acc: 0.7986 - val_loss: 1.2275 - val_acc: 0.6941\n",
      "Epoch 18/30\n",
      "8982/8982 [==============================] - 10s 1ms/step - loss: 0.7683 - acc: 0.8082 - val_loss: 1.2494 - val_acc: 0.6968\n",
      "Epoch 19/30\n",
      "8982/8982 [==============================] - 9s 1ms/step - loss: 0.7397 - acc: 0.8131 - val_loss: 1.2405 - val_acc: 0.6923\n",
      "Epoch 20/30\n",
      "8982/8982 [==============================] - 10s 1ms/step - loss: 0.7118 - acc: 0.8200 - val_loss: 1.2528 - val_acc: 0.6977\n",
      "Epoch 21/30\n",
      "8982/8982 [==============================] - 10s 1ms/step - loss: 0.6765 - acc: 0.8294 - val_loss: 1.2596 - val_acc: 0.6968\n",
      "Epoch 22/30\n",
      "8982/8982 [==============================] - 11s 1ms/step - loss: 0.6438 - acc: 0.8375 - val_loss: 1.2695 - val_acc: 0.6968\n",
      "Epoch 23/30\n",
      "8982/8982 [==============================] - 10s 1ms/step - loss: 0.6178 - acc: 0.8430 - val_loss: 1.3072 - val_acc: 0.6870\n",
      "Epoch 24/30\n",
      "8982/8982 [==============================] - 10s 1ms/step - loss: 0.5843 - acc: 0.8560 - val_loss: 1.3212 - val_acc: 0.6928\n",
      "Epoch 25/30\n",
      "8982/8982 [==============================] - 10s 1ms/step - loss: 0.5526 - acc: 0.8613 - val_loss: 1.3535 - val_acc: 0.6919\n",
      "Epoch 26/30\n",
      "8982/8982 [==============================] - 10s 1ms/step - loss: 0.5278 - acc: 0.8662 - val_loss: 1.3624 - val_acc: 0.6919\n",
      "Epoch 27/30\n",
      "8982/8982 [==============================] - 11s 1ms/step - loss: 0.5010 - acc: 0.8759 - val_loss: 1.4000 - val_acc: 0.6959\n",
      "Epoch 28/30\n",
      "8982/8982 [==============================] - 10s 1ms/step - loss: 0.4788 - acc: 0.8804 - val_loss: 1.4080 - val_acc: 0.6928\n",
      "Epoch 29/30\n",
      "8982/8982 [==============================] - 10s 1ms/step - loss: 0.4680 - acc: 0.8827 - val_loss: 1.3777 - val_acc: 0.6995\n",
      "Epoch 30/30\n",
      "8982/8982 [==============================] - 10s 1ms/step - loss: 0.4422 - acc: 0.8882 - val_loss: 1.4141 - val_acc: 0.6995\n",
      "2246/2246 [==============================] - 1s 296us/step\n",
      "\n",
      " Test Accuracy : 0.6995\n"
     ]
    }
   ],
   "source": [
    "history = model.fit(x_train, y_train, batch_size = 100, epochs = 30, validation_data = (x_test, y_test))\n",
    "print(\"\\n Test Accuracy : %.4f\" % (model.evaluate(x_test, y_test)[1]))"
   ]
  },
  {
   "cell_type": "code",
   "execution_count": 62,
   "metadata": {},
   "outputs": [],
   "source": [
    "y_vloss = history.history['val_loss']\n",
    "\n",
    "# 학습셋의 오차\n",
    "y_loss = history.history['loss']\n",
    "\n",
    "# 테스트 셋의 정확도\n",
    "y_vacc = history.history['val_acc']\n",
    "# 학습셋의 정확도\n",
    "y_acc = history.history['acc']"
   ]
  },
  {
   "cell_type": "code",
   "execution_count": null,
   "metadata": {},
   "outputs": [],
   "source": []
  }
 ],
 "metadata": {
  "kernelspec": {
   "display_name": "Python 3",
   "language": "python",
   "name": "python3"
  },
  "language_info": {
   "codemirror_mode": {
    "name": "ipython",
    "version": 3
   },
   "file_extension": ".py",
   "mimetype": "text/x-python",
   "name": "python",
   "nbconvert_exporter": "python",
   "pygments_lexer": "ipython3",
   "version": "3.7.3"
  }
 },
 "nbformat": 4,
 "nbformat_minor": 2
}
